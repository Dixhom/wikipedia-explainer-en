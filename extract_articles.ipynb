{
 "cells": [
  {
   "cell_type": "code",
   "execution_count": 1,
   "metadata": {},
   "outputs": [],
   "source": [
    "from bs4 import BeautifulSoup\n",
    "from urllib import request\n",
    "import requests\n",
    "from tqdm import tqdm\n",
    "import os, re\n",
    "import pandas as pd\n",
    "\n",
    "# soupオブジェクトを取得\n",
    "def get_soup(url):\n",
    "    with request.urlopen(url) as response:\n",
    "        soup = BeautifulSoup(response)\n",
    "        return soup\n"
   ]
  },
  {
   "cell_type": "code",
   "execution_count": 14,
   "metadata": {},
   "outputs": [],
   "source": [
    "def is_valid(wiki):\n",
    "    text = wiki.text\n",
    "    url = wiki['href']\n",
    "    return not (url.startswith('https://en.wikipedia.org') \\\n",
    "                or '/wiki/Wikipedia:' in url \\\n",
    "                or '/wiki/Category:' in url \\\n",
    "                or '/wiki/File:' in url \\\n",
    "                or url.startswith('https://en.wiktionary.org') \\\n",
    "                or text.startswith('List of'))\n",
    "\n",
    "site1 = get_soup('https://en.wikipedia.org/wiki/Wikipedia:Unusual_articles')\n",
    "wikis = site1.select('td a')\n",
    "pairs = [(w.text, 'https://en.wikipedia.org' + w['href']) for w in wikis if is_valid(w)]\n"
   ]
  },
  {
   "cell_type": "code",
   "execution_count": 15,
   "metadata": {},
   "outputs": [],
   "source": [
    "import pandas as pd\n",
    "pd.DataFrame(pairs, columns=['title', 'url']).to_csv('articles.csv', index=False, encoding='utf-8-sig')"
   ]
  },
  {
   "cell_type": "code",
   "execution_count": null,
   "metadata": {},
   "outputs": [],
   "source": []
  }
 ],
 "metadata": {
  "kernelspec": {
   "display_name": "base",
   "language": "python",
   "name": "python3"
  },
  "language_info": {
   "codemirror_mode": {
    "name": "ipython",
    "version": 3
   },
   "file_extension": ".py",
   "mimetype": "text/x-python",
   "name": "python",
   "nbconvert_exporter": "python",
   "pygments_lexer": "ipython3",
   "version": "3.9.13"
  },
  "orig_nbformat": 4,
  "vscode": {
   "interpreter": {
    "hash": "3ccf15c8fe378950fb5032e67431b8a03c54196b85c22e93a93c9b5a4366e198"
   }
  }
 },
 "nbformat": 4,
 "nbformat_minor": 2
}
